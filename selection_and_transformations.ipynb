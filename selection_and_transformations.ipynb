{
 "cells": [
  {
   "attachments": {},
   "cell_type": "markdown",
   "metadata": {},
   "source": [
    "# Selection And Transformations\n",
    "\n",
    "Image random selection and grayscale transformation."
   ]
  },
  {
   "attachments": {},
   "cell_type": "markdown",
   "metadata": {},
   "source": [
    "## Get 30 Random Images\n",
    "\n",
    "15 normal and 15 smiling."
   ]
  },
  {
   "cell_type": "code",
   "execution_count": 1,
   "metadata": {},
   "outputs": [
    {
     "name": "stdout",
     "output_type": "stream",
     "text": [
      "['96a.jpg', '25a.jpg', '82a.jpg', '66a.jpg', '26a.jpg', '20a.jpg', '72a.jpg', '43a.jpg', '63a.jpg', '32a.jpg', '58a.jpg', '50a.jpg', '87a.jpg', '10a.jpg', '29a.jpg', '96b.jpg', '25b.jpg', '82b.jpg', '66b.jpg', '26b.jpg', '20b.jpg', '72b.jpg', '43b.jpg', '63b.jpg', '32b.jpg', '58b.jpg', '50b.jpg', '87b.jpg', '10b.jpg', '29b.jpg']\n"
     ]
    }
   ],
   "source": [
    "from helpers.select_image import select_random_images\n",
    "image_files = []\n",
    "image_files = select_random_images(100, 15)\n",
    "\n",
    "print(image_files)"
   ]
  },
  {
   "cell_type": "code",
   "execution_count": 3,
   "metadata": {},
   "outputs": [],
   "source": [
    "pictures_folder = \"./data/pictures/frontalimages_manuallyaligned_part1/\"\n",
    "selected_pictures_folder = \"./data/selected_pictures/raw\""
   ]
  },
  {
   "cell_type": "code",
   "execution_count": 3,
   "metadata": {},
   "outputs": [],
   "source": [
    "import shutil\n",
    "import os\n",
    "\n",
    "# create folder if not exists\n",
    "if not os.path.exists(selected_pictures_folder):\n",
    "    os.makedirs(selected_pictures_folder)\n",
    "\n",
    "for image_file in image_files:\n",
    "    shutil.copyfile(pictures_folder + image_file, selected_pictures_folder + \"/\" + image_file)"
   ]
  },
  {
   "cell_type": "code",
   "execution_count": 5,
   "metadata": {},
   "outputs": [],
   "source": [
    "# count records in selected_pictures_folder\n",
    "assert len(os.listdir(selected_pictures_folder)) == 30\n"
   ]
  },
  {
   "attachments": {},
   "cell_type": "markdown",
   "metadata": {},
   "source": [
    "## Convert Images To Grayscale"
   ]
  },
  {
   "cell_type": "code",
   "execution_count": 10,
   "metadata": {},
   "outputs": [],
   "source": [
    "from PIL import Image\n",
    "import os\n",
    "grayscaled_pictures_folder = \"./data/selected_pictures/grayscaled\"\n",
    "# create folder if not exists\n",
    "if not os.path.exists(grayscaled_pictures_folder):\n",
    "    os.makedirs(grayscaled_pictures_folder)\n",
    "# convert images to grayscale\n",
    "for image_file in os.listdir(selected_pictures_folder):\n",
    "    if not image_file.endswith(\".jpg\"):\n",
    "        continue\n",
    "    image = Image.open(selected_pictures_folder + \"/\" + image_file).convert(\"L\")\n",
    "    image.save(grayscaled_pictures_folder + \"/\" + image_file)\n",
    "    "
   ]
  }
 ],
 "metadata": {
  "kernelspec": {
   "display_name": ".venv",
   "language": "python",
   "name": "python3"
  },
  "language_info": {
   "codemirror_mode": {
    "name": "ipython",
    "version": 3
   },
   "file_extension": ".py",
   "mimetype": "text/x-python",
   "name": "python",
   "nbconvert_exporter": "python",
   "pygments_lexer": "ipython3",
   "version": "3.8.10"
  },
  "orig_nbformat": 4
 },
 "nbformat": 4,
 "nbformat_minor": 2
}
